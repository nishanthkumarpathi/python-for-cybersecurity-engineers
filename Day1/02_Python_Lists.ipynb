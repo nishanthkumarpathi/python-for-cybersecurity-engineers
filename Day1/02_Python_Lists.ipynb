{
 "cells": [
  {
   "cell_type": "code",
   "execution_count": 45,
   "metadata": {},
   "outputs": [
    {
     "name": "stdout",
     "output_type": "stream",
     "text": [
      "List of HTTP Status Codes\n",
      "[200, 400, 403, 500]\n"
     ]
    }
   ],
   "source": [
    "print(\"List of HTTP Status Codes\")\n",
    "responses = [200, 400, 403, 500 ]\n",
    "print(responses)"
   ]
  },
  {
   "cell_type": "code",
   "execution_count": 46,
   "metadata": {},
   "outputs": [
    {
     "name": "stdout",
     "output_type": "stream",
     "text": [
      "200\n"
     ]
    },
    {
     "data": {
      "text/plain": [
       "int"
      ]
     },
     "execution_count": 46,
     "metadata": {},
     "output_type": "execute_result"
    }
   ],
   "source": [
    "HTTPOk = 200\n",
    "print(HTTPOk)\n",
    "type(HTTPOk)"
   ]
  },
  {
   "cell_type": "code",
   "execution_count": 47,
   "metadata": {},
   "outputs": [
    {
     "name": "stdout",
     "output_type": "stream",
     "text": [
      "HTTP OK Status Codes 200\n"
     ]
    }
   ],
   "source": [
    "print(\"HTTP OK Status Codes\", str(HTTPOk))  # Convert to string"
   ]
  },
  {
   "cell_type": "code",
   "execution_count": 48,
   "metadata": {},
   "outputs": [
    {
     "data": {
      "text/plain": [
       "[200, 400, 403, 500]"
      ]
     },
     "execution_count": 48,
     "metadata": {},
     "output_type": "execute_result"
    }
   ],
   "source": [
    "responses"
   ]
  },
  {
   "cell_type": "code",
   "execution_count": 49,
   "metadata": {},
   "outputs": [
    {
     "name": "stdout",
     "output_type": "stream",
     "text": [
      "200\n",
      "400\n",
      "403\n",
      "500\n",
      "500\n",
      "403\n",
      "400\n",
      "200\n"
     ]
    }
   ],
   "source": [
    "print(responses[0])  # First element\n",
    "print(responses[1])  # Second element\n",
    "print(responses[2])  # Third element\n",
    "print(responses[3])  # Fourth element\n",
    "print(responses[-1])  # Last element\n",
    "print(responses[-2])  # Second last element\n",
    "print(responses[-3])  # Third last element\n",
    "print(responses[-4])  # Fourth last element"
   ]
  },
  {
   "cell_type": "code",
   "execution_count": 50,
   "metadata": {},
   "outputs": [
    {
     "name": "stdout",
     "output_type": "stream",
     "text": [
      "['http', 'https', 'ftp', 'sftp', 'ssh', 'telnet', 'smtp']\n"
     ]
    }
   ],
   "source": [
    "# Create a List of Protocols\n",
    "protocolList = [\"http\", \"https\", \"ftp\", \"sftp\", \"ssh\", \"telnet\", \"smtp\"]\n",
    "print(protocolList)"
   ]
  },
  {
   "cell_type": "code",
   "execution_count": 51,
   "metadata": {},
   "outputs": [
    {
     "name": "stdout",
     "output_type": "stream",
     "text": [
      "http\n",
      "https\n",
      "ftp\n",
      "sftp\n",
      "ssh\n",
      "telnet\n",
      "smtp\n"
     ]
    }
   ],
   "source": [
    "for protocol in protocolList:\n",
    "    print(protocol)"
   ]
  },
  {
   "cell_type": "code",
   "execution_count": 52,
   "metadata": {},
   "outputs": [
    {
     "name": "stdout",
     "output_type": "stream",
     "text": [
      "['http', 'https', 'ftp', 'sftp', 'ssh', 'telnet', 'smtp']\n"
     ]
    }
   ],
   "source": [
    "print(protocolList)"
   ]
  },
  {
   "cell_type": "code",
   "execution_count": 53,
   "metadata": {},
   "outputs": [
    {
     "name": "stdout",
     "output_type": "stream",
     "text": [
      "['http', 'https', 'ftp', 'sftp', 'ssh', 'telnet', 'smtp', 'snmp']\n"
     ]
    }
   ],
   "source": [
    "protocolList.append(\"snmp\")\n",
    "print(protocolList)"
   ]
  },
  {
   "cell_type": "code",
   "execution_count": 54,
   "metadata": {},
   "outputs": [
    {
     "data": {
      "text/plain": [
       "1"
      ]
     },
     "execution_count": 54,
     "metadata": {},
     "output_type": "execute_result"
    }
   ],
   "source": [
    "protocolList.count('snmp')"
   ]
  },
  {
   "cell_type": "code",
   "execution_count": 55,
   "metadata": {},
   "outputs": [
    {
     "data": {
      "text/plain": [
       "7"
      ]
     },
     "execution_count": 55,
     "metadata": {},
     "output_type": "execute_result"
    }
   ],
   "source": [
    "protocolList.index('snmp')"
   ]
  },
  {
   "cell_type": "code",
   "execution_count": 56,
   "metadata": {},
   "outputs": [
    {
     "name": "stdout",
     "output_type": "stream",
     "text": [
      "['tcp', 'http', 'https', 'ftp', 'sftp', 'ssh', 'telnet', 'smtp', 'snmp']\n"
     ]
    }
   ],
   "source": [
    "protocolList.insert(0, 'tcp')\n",
    "print(protocolList)"
   ]
  },
  {
   "cell_type": "code",
   "execution_count": 57,
   "metadata": {},
   "outputs": [
    {
     "name": "stdout",
     "output_type": "stream",
     "text": [
      "['tcp', 'http', 'https', 'ftp', 'sftp', 'ssh', 'telnet', 'smtp']\n"
     ]
    }
   ],
   "source": [
    "# pop\n",
    "protocolList.pop()\n",
    "print(protocolList)"
   ]
  },
  {
   "cell_type": "code",
   "execution_count": 58,
   "metadata": {},
   "outputs": [
    {
     "name": "stdout",
     "output_type": "stream",
     "text": [
      "['http', 'https', 'ftp', 'sftp', 'ssh', 'telnet', 'smtp']\n"
     ]
    }
   ],
   "source": [
    "# remove\n",
    "protocolList.remove('tcp')\n",
    "print(protocolList)"
   ]
  },
  {
   "cell_type": "code",
   "execution_count": 59,
   "metadata": {},
   "outputs": [
    {
     "name": "stdout",
     "output_type": "stream",
     "text": [
      "['http', 'ftp', 'sftp', 'ssh', 'telnet', 'smtp']\n"
     ]
    }
   ],
   "source": [
    "# pop with index value\n",
    "protocolList.pop(1)\n",
    "print(protocolList)"
   ]
  },
  {
   "cell_type": "code",
   "execution_count": 60,
   "metadata": {},
   "outputs": [
    {
     "name": "stdout",
     "output_type": "stream",
     "text": [
      "['smtp', 'telnet', 'ssh', 'sftp', 'ftp', 'http']\n"
     ]
    }
   ],
   "source": [
    "# reverse the list\n",
    "protocolList.reverse()\n",
    "print(protocolList)"
   ]
  },
  {
   "cell_type": "code",
   "execution_count": 61,
   "metadata": {},
   "outputs": [
    {
     "name": "stdout",
     "output_type": "stream",
     "text": [
      "['ftp', 'http', 'sftp', 'smtp', 'ssh', 'telnet']\n"
     ]
    }
   ],
   "source": [
    "# sort in ascending Order\n",
    "protocolList.sort()\n",
    "print(protocolList)"
   ]
  },
  {
   "cell_type": "code",
   "execution_count": 62,
   "metadata": {},
   "outputs": [
    {
     "name": "stdout",
     "output_type": "stream",
     "text": [
      "['telnet', 'ssh', 'smtp', 'sftp', 'http', 'ftp']\n"
     ]
    }
   ],
   "source": [
    "# sort in descending Order\n",
    "protocolList.sort(reverse=True)\n",
    "print(protocolList)"
   ]
  }
 ],
 "metadata": {
  "kernelspec": {
   "display_name": "Python 3",
   "language": "python",
   "name": "python3"
  },
  "language_info": {
   "codemirror_mode": {
    "name": "ipython",
    "version": 3
   },
   "file_extension": ".py",
   "mimetype": "text/x-python",
   "name": "python",
   "nbconvert_exporter": "python",
   "pygments_lexer": "ipython3",
   "version": "3.11.2"
  }
 },
 "nbformat": 4,
 "nbformat_minor": 2
}
